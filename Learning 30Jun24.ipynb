{
 "cells": [
  {
   "cell_type": "code",
   "execution_count": 2,
   "id": "38b7bb1c",
   "metadata": {},
   "outputs": [],
   "source": [
    "#3 Code to explain the basic concepts of Variables, contants and placeholders"
   ]
  },
  {
   "cell_type": "code",
   "execution_count": 1,
   "id": "9589c4a1-ad7e-45d1-955e-f25205773732",
   "metadata": {},
   "outputs": [
    {
     "name": "stdout",
     "output_type": "stream",
     "text": [
      "0\n"
     ]
    }
   ],
   "source": [
    "import tensorflow as tf\n",
    "\n",
    "# Disable eager execution to use the session-based model\n",
    "tf.compat.v1.disable_eager_execution()\n",
    "\n",
    "# Define a variable\n",
    "zero = tf.compat.v1.Variable(0, name='zero')\n",
    "\n",
    "# Define a constant\n",
    "one = tf.constant(1, name='one')\n",
    "\n",
    "# Addition operation in tf\n",
    "new_value = tf.add(zero, one, name='add')\n",
    "\n",
    "# Update operation\n",
    "update = zero.assign(new_value)\n",
    "\n",
    "# Initialize variables\n",
    "init_op = tf.compat.v1.global_variables_initializer()\n",
    "\n",
    "# Start a session to run the operations\n",
    "with tf.compat.v1.Session() as sess:\n",
    "    # Run the initializer\n",
    "    sess.run(init_op)\n",
    "    \n",
    "    # Run the update operation\n",
    "    # sess.run(update)\n",
    "    \n",
    "    # Print the updated value of the variable\n",
    "    print(sess.run(zero))  # Output: 1\n"
   ]
  },
  {
   "cell_type": "code",
   "execution_count": 2,
   "id": "4795fd7d-6398-4fb2-b1c8-b832f6f125ae",
   "metadata": {},
   "outputs": [
    {
     "name": "stdout",
     "output_type": "stream",
     "text": [
      "1\n",
      "2\n",
      "3\n",
      "4\n",
      "5\n"
     ]
    }
   ],
   "source": [
    "# we need to always run teh session within the 'with' block or else wont work\n",
    "\n",
    "with tf.compat.v1.Session() as sess:\n",
    "    # Run the initializer\n",
    "    sess.run(init_op) #no need every session once in the beinging it enough\n",
    "    for _ in range(5): \n",
    "        sess.run(update)\n",
    "        print(sess.run(zero))"
   ]
  },
  {
   "cell_type": "code",
   "execution_count": 3,
   "id": "6ee2856d-6213-4179-b718-6b588bdc9708",
   "metadata": {},
   "outputs": [
    {
     "name": "stdout",
     "output_type": "stream",
     "text": [
      "b'helloworld'\n"
     ]
    }
   ],
   "source": [
    "hello=tf.constant(\"hello\")\n",
    "world=tf.constant(\"world\")\n",
    "helloworld=tf.add(hello,world)\n",
    "\n",
    "with tf.compat.v1.Session() as sess:\n",
    "    print(sess.run(helloworld))"
   ]
  },
  {
   "cell_type": "code",
   "execution_count": 4,
   "id": "e921f016-3b5d-420d-8315-7ece439ce04a",
   "metadata": {},
   "outputs": [
    {
     "name": "stdout",
     "output_type": "stream",
     "text": [
      "6.0\n"
     ]
    }
   ],
   "source": [
    "#placeholder\n",
    "a=tf.compat.v1.placeholder(tf.float32)\n",
    "b=a*2\n",
    "\n",
    "with tf.compat.v1.Session() as sess:\n",
    "    #feeding a plaeholder with scalar\n",
    "    # result=sess.run(b, feed_dict={a:3})  #or without giving a varible name, with is better\n",
    "    result=sess.run(b, {a:3})\n",
    "    print(result)\n"
   ]
  },
  {
   "cell_type": "code",
   "execution_count": 5,
   "id": "3a150b7b-c62d-420a-92f9-3f172998ba98",
   "metadata": {},
   "outputs": [
    {
     "name": "stdout",
     "output_type": "stream",
     "text": [
      "[ 6.  8. 10.]\n"
     ]
    }
   ],
   "source": [
    "with tf.compat.v1.Session() as sess:\n",
    "    #feeding a placceholder with vetor of rank1\n",
    "    result=sess.run(b, feed_dict={a:[3,4,5]})\n",
    "    print(result)"
   ]
  },
  {
   "cell_type": "code",
   "execution_count": 6,
   "id": "ff109a36-757b-4870-9fe0-ab493e02bb7b",
   "metadata": {},
   "outputs": [
    {
     "name": "stdout",
     "output_type": "stream",
     "text": [
      "[[[ 2.  4.  6.]\n",
      "  [ 8. 10. 12.]\n",
      "  [14. 16. 18.]]\n",
      "\n",
      " [[20. 22. 24.]\n",
      "  [26. 28. 30.]\n",
      "  [32. 34. 36.]]]\n"
     ]
    }
   ],
   "source": [
    "dictionary={a:[[[1,2,3],[4,5,6],[7,8,9]],[[10,11,12],[13,14,15],[16,17,18]]]} #multidimensional array 3x3x2\n",
    "\n",
    "with tf.compat.v1.Session() as sess:\n",
    "    #feeding a placceholder with vetor of rank1\n",
    "    result=sess.run(b, feed_dict=dictionary)\n",
    "    print(result)"
   ]
  },
  {
   "cell_type": "code",
   "execution_count": 7,
   "id": "0c3b86a0-1d09-4f53-a6ca-3f886667d466",
   "metadata": {},
   "outputs": [],
   "source": [
    "# how is graph created"
   ]
  },
  {
   "cell_type": "code",
   "execution_count": 8,
   "id": "2a9b1dab-ad66-4c6b-9144-5b6d6607b03f",
   "metadata": {},
   "outputs": [],
   "source": [
    "graph=tf.compat.v1.get_default_graph()"
   ]
  },
  {
   "cell_type": "code",
   "execution_count": 9,
   "id": "163bc96f-ea9d-4aff-a4aa-194084d75ef9",
   "metadata": {},
   "outputs": [
    {
     "data": {
      "text/plain": [
       "[<tf.Operation 'zero/Initializer/initial_value' type=Const>,\n",
       " <tf.Operation 'zero' type=VarHandleOp>,\n",
       " <tf.Operation 'zero/IsInitialized/VarIsInitializedOp' type=VarIsInitializedOp>,\n",
       " <tf.Operation 'zero/Assign' type=AssignVariableOp>,\n",
       " <tf.Operation 'zero/Read/ReadVariableOp' type=ReadVariableOp>,\n",
       " <tf.Operation 'one' type=Const>,\n",
       " <tf.Operation 'add/ReadVariableOp' type=ReadVariableOp>,\n",
       " <tf.Operation 'add' type=AddV2>,\n",
       " <tf.Operation 'AssignVariableOp' type=AssignVariableOp>,\n",
       " <tf.Operation 'ReadVariableOp' type=ReadVariableOp>,\n",
       " <tf.Operation 'init' type=NoOp>,\n",
       " <tf.Operation 'Const' type=Const>,\n",
       " <tf.Operation 'Const_1' type=Const>,\n",
       " <tf.Operation 'Add_1' type=Add>,\n",
       " <tf.Operation 'Placeholder' type=Placeholder>,\n",
       " <tf.Operation 'mul/y' type=Const>,\n",
       " <tf.Operation 'mul' type=Mul>]"
      ]
     },
     "execution_count": 9,
     "metadata": {},
     "output_type": "execute_result"
    }
   ],
   "source": [
    "graph.get_operations()"
   ]
  },
  {
   "cell_type": "code",
   "execution_count": 10,
   "id": "205b08d4-a307-48a0-92c3-64417908b38d",
   "metadata": {},
   "outputs": [
    {
     "name": "stdout",
     "output_type": "stream",
     "text": [
      "[<tf.Operation 'zero/Initializer/initial_value' type=Const>, <tf.Operation 'zero' type=VarHandleOp>, <tf.Operation 'zero/IsInitialized/VarIsInitializedOp' type=VarIsInitializedOp>, <tf.Operation 'zero/Assign' type=AssignVariableOp>, <tf.Operation 'zero/Read/ReadVariableOp' type=ReadVariableOp>, <tf.Operation 'one' type=Const>, <tf.Operation 'add/ReadVariableOp' type=ReadVariableOp>, <tf.Operation 'add' type=AddV2>, <tf.Operation 'AssignVariableOp' type=AssignVariableOp>, <tf.Operation 'ReadVariableOp' type=ReadVariableOp>, <tf.Operation 'init' type=NoOp>, <tf.Operation 'Const' type=Const>, <tf.Operation 'Const_1' type=Const>, <tf.Operation 'Add_1' type=Add>, <tf.Operation 'Placeholder' type=Placeholder>, <tf.Operation 'mul/y' type=Const>, <tf.Operation 'mul' type=Mul>, <tf.Operation 'a' type=Const>]\n"
     ]
    }
   ],
   "source": [
    "a=tf.constant(10, name=\"a\")\n",
    "\n",
    "operations=graph.get_operations()\n",
    "print(operations)"
   ]
  },
  {
   "cell_type": "code",
   "execution_count": 11,
   "id": "e6f823ee-371b-46a7-825b-b4d085fdefe5",
   "metadata": {},
   "outputs": [
    {
     "name": "stdout",
     "output_type": "stream",
     "text": [
      "zero/Initializer/initial_value\n",
      "zero\n",
      "zero/IsInitialized/VarIsInitializedOp\n",
      "zero/Assign\n",
      "zero/Read/ReadVariableOp\n",
      "one\n",
      "add/ReadVariableOp\n",
      "add\n",
      "AssignVariableOp\n",
      "ReadVariableOp\n",
      "init\n",
      "Const\n",
      "Const_1\n",
      "Add_1\n",
      "Placeholder\n",
      "mul/y\n",
      "mul\n",
      "a\n"
     ]
    }
   ],
   "source": [
    "for op in graph.get_operations(): print(op.name)"
   ]
  }
 ],
 "metadata": {
  "kernelspec": {
   "display_name": "Python 3",
   "language": "python",
   "name": "python3"
  },
  "language_info": {
   "codemirror_mode": {
    "name": "ipython",
    "version": 3
   },
   "file_extension": ".py",
   "mimetype": "text/x-python",
   "name": "python",
   "nbconvert_exporter": "python",
   "pygments_lexer": "ipython3",
   "version": "3.6.13"
  }
 },
 "nbformat": 4,
 "nbformat_minor": 5
}
